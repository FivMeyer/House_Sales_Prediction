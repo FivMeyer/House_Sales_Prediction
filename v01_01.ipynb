{
 "cells": [
  {
   "cell_type": "markdown",
   "id": "659cc4e1",
   "metadata": {},
   "source": [
    "# Load Library"
   ]
  },
  {
   "cell_type": "code",
   "execution_count": null,
   "id": "4e6fa68e",
   "metadata": {
    "ExecuteTime": {
     "end_time": "2021-05-27T00:56:55.234622Z",
     "start_time": "2021-05-27T00:56:53.649360Z"
    },
    "hide_input": false
   },
   "outputs": [],
   "source": [
    "pip install autopep8"
   ]
  },
  {
   "cell_type": "code",
   "execution_count": null,
   "id": "9501e671",
   "metadata": {},
   "outputs": [],
   "source": []
  },
  {
   "cell_type": "code",
   "execution_count": null,
   "id": "2def4526",
   "metadata": {
    "ExecuteTime": {
     "end_time": "2021-05-27T00:51:49.545114Z",
     "start_time": "2021-05-27T00:51:49.538019Z"
    }
   },
   "outputs": [],
   "source": [
    "import pandas as pd\n",
    "import numpy as np"
   ]
  },
  {
   "cell_type": "markdown",
   "id": "8fa33f73",
   "metadata": {},
   "source": [
    "# Load Data"
   ]
  },
  {
   "cell_type": "code",
   "execution_count": null,
   "id": "8ae22413",
   "metadata": {
    "ExecuteTime": {
     "end_time": "2021-05-27T00:51:51.437524Z",
     "start_time": "2021-05-27T00:51:51.382825Z"
    }
   },
   "outputs": [],
   "source": [
    "dados = pd.read_csv(\"datasets/kc_house_data.csv\")"
   ]
  },
  {
   "cell_type": "code",
   "execution_count": null,
   "id": "e2dffee6",
   "metadata": {
    "ExecuteTime": {
     "end_time": "2021-05-27T00:51:52.144900Z",
     "start_time": "2021-05-27T00:51:52.128665Z"
    }
   },
   "outputs": [],
   "source": [
    "dados.dtypes"
   ]
  },
  {
   "cell_type": "code",
   "execution_count": null,
   "id": "18a9230c",
   "metadata": {
    "ExecuteTime": {
     "end_time": "2021-05-27T00:51:53.138517Z",
     "start_time": "2021-05-27T00:51:53.101814Z"
    }
   },
   "outputs": [],
   "source": [
    "dados['date'] = pd.to_datetime(dados['date'])\n",
    "dados.dtypes\n",
    "\n",
    "# lembrando que deve ser tudo int64 ou int32"
   ]
  },
  {
   "cell_type": "markdown",
   "id": "f4c0a757",
   "metadata": {},
   "source": [
    "## Create news variables"
   ]
  },
  {
   "cell_type": "code",
   "execution_count": null,
   "id": "2837c199",
   "metadata": {
    "ExecuteTime": {
     "end_time": "2021-05-27T00:53:17.151411Z",
     "start_time": "2021-05-27T00:53:17.129922Z"
    }
   },
   "outputs": [],
   "source": [
    "print(dados[['id', 'price']])"
   ]
  }
 ],
 "metadata": {
  "kernelspec": {
   "display_name": "Python 3",
   "language": "python",
   "name": "python3"
  },
  "language_info": {
   "codemirror_mode": {
    "name": "ipython",
    "version": 3
   },
   "file_extension": ".py",
   "mimetype": "text/x-python",
   "name": "python",
   "nbconvert_exporter": "python",
   "pygments_lexer": "ipython3",
   "version": "3.9.2"
  },
  "toc": {
   "base_numbering": 1,
   "nav_menu": {},
   "number_sections": true,
   "sideBar": true,
   "skip_h1_title": false,
   "title_cell": "Table of Contents",
   "title_sidebar": "Contents",
   "toc_cell": false,
   "toc_position": {},
   "toc_section_display": true,
   "toc_window_display": false
  }
 },
 "nbformat": 4,
 "nbformat_minor": 5
}
