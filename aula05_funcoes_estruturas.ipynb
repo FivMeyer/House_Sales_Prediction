{
 "cells": [
  {
   "cell_type": "markdown",
   "id": "92cc333f",
   "metadata": {
    "ExecuteTime": {
     "end_time": "2021-06-13T17:55:19.092059Z",
     "start_time": "2021-06-13T17:55:19.070059Z"
    }
   },
   "source": [
    "# Load Libraries"
   ]
  },
  {
   "cell_type": "code",
   "execution_count": 1,
   "id": "d87b7a47",
   "metadata": {
    "ExecuteTime": {
     "end_time": "2021-06-13T18:49:04.800861Z",
     "start_time": "2021-06-13T18:49:04.238780Z"
    }
   },
   "outputs": [],
   "source": [
    "import numpy          as np\n",
    "import pandas         as pd\n",
    "import plotly.express as px\n",
    "\n",
    "from geopy.geocoders import Nominatim\n",
    "\n",
    "pd.set_option('display.float_format', lambda x: '%.3f' % x)"
   ]
  },
  {
   "cell_type": "markdown",
   "id": "8f5bcc4e",
   "metadata": {
    "ExecuteTime": {
     "end_time": "2021-06-13T18:42:45.945147Z",
     "start_time": "2021-06-13T18:42:45.940096Z"
    }
   },
   "source": [
    "# Functions"
   ]
  },
  {
   "cell_type": "code",
   "execution_count": 19,
   "id": "a2e62e63",
   "metadata": {
    "ExecuteTime": {
     "end_time": "2021-06-13T18:56:14.561172Z",
     "start_time": "2021-06-13T18:56:14.527097Z"
    }
   },
   "outputs": [],
   "source": [
    "def show_dtypes(data):\n",
    "    print(data.dtypes)\n",
    "    return None\n",
    "\n",
    "def show_dimensions(data):\n",
    "    print(\"Number of rows: {}\".format(data.shape[0]), end = '\\n\\n')\n",
    "    print(\"Number of columns: {}\".format(data.shape[1]), end = '\\n\\n')\n",
    "    return None\n",
    "\n",
    "def collect_geodata(data, cols):\n",
    "    # Initialize API\n",
    "    geolocator = Nominatim (user_agent = 'geopiExercises')\n",
    "\n",
    "    \n",
    "    # create empty\n",
    "    data.loc[:, cols[0]] = 'NA'\n",
    "    data.loc[:, cols[1]] = 'NA'\n",
    "\n",
    "    for i in range(len(data)):\n",
    "        print('Loop: {}/{}'.format(i, len(data)))\n",
    "\n",
    "        query = str(data.loc[i, 'lat']) + ',' + str(data.loc[i, 'long'])\n",
    "        response = geolocator.reverse(query)\n",
    "\n",
    "        if cols[0] in response.raw['address']:\n",
    "            data.loc[i, 'house_number'] = response.raw['address'][cols[0]]\n",
    "\n",
    "        if cols[1] in response.raw['address']:\n",
    "            data.loc[i, 'road'] = response.raw['address'][cols[1]]\n",
    "    \n",
    "    return data"
   ]
  },
  {
   "cell_type": "markdown",
   "id": "b5e753ce",
   "metadata": {},
   "source": [
    "# Extract Data"
   ]
  },
  {
   "cell_type": "code",
   "execution_count": 3,
   "id": "ed8fdf8d",
   "metadata": {
    "ExecuteTime": {
     "end_time": "2021-06-13T18:49:09.541631Z",
     "start_time": "2021-06-13T18:49:09.405967Z"
    }
   },
   "outputs": [],
   "source": [
    "data = pd.read_csv('datasets/kc_house_data.csv')"
   ]
  },
  {
   "cell_type": "markdown",
   "id": "e5f1689e",
   "metadata": {
    "ExecuteTime": {
     "end_time": "2021-06-13T17:50:54.476911Z",
     "start_time": "2021-06-13T17:50:53.926243Z"
    }
   },
   "source": [
    "## Extraction Analysis"
   ]
  },
  {
   "cell_type": "code",
   "execution_count": 4,
   "id": "6f66a625",
   "metadata": {
    "ExecuteTime": {
     "end_time": "2021-06-13T18:49:10.661041Z",
     "start_time": "2021-06-13T18:49:10.639530Z"
    }
   },
   "outputs": [
    {
     "name": "stdout",
     "output_type": "stream",
     "text": [
      "Number of rows: 21613\n",
      "Number of columns: 21\n"
     ]
    }
   ],
   "source": [
    "# data dimension\n",
    "show_dimensions(data)"
   ]
  },
  {
   "cell_type": "code",
   "execution_count": 5,
   "id": "157bf5c0",
   "metadata": {
    "ExecuteTime": {
     "end_time": "2021-06-13T18:49:11.313538Z",
     "start_time": "2021-06-13T18:49:11.291036Z"
    }
   },
   "outputs": [
    {
     "name": "stdout",
     "output_type": "stream",
     "text": [
      "id                 int64\n",
      "date              object\n",
      "price            float64\n",
      "bedrooms           int64\n",
      "bathrooms        float64\n",
      "sqft_living        int64\n",
      "sqft_lot           int64\n",
      "floors           float64\n",
      "waterfront         int64\n",
      "view               int64\n",
      "condition          int64\n",
      "grade              int64\n",
      "sqft_above         int64\n",
      "sqft_basement      int64\n",
      "yr_built           int64\n",
      "yr_renovated       int64\n",
      "zipcode            int64\n",
      "lat              float64\n",
      "long             float64\n",
      "sqft_living15      int64\n",
      "sqft_lot15         int64\n",
      "dtype: object\n"
     ]
    }
   ],
   "source": [
    "show_dtypes(data)"
   ]
  },
  {
   "cell_type": "markdown",
   "id": "61bc9f07",
   "metadata": {
    "ExecuteTime": {
     "end_time": "2021-06-13T13:17:29.067106Z",
     "start_time": "2021-06-13T13:17:29.059269Z"
    }
   },
   "source": [
    "# Transformation"
   ]
  },
  {
   "cell_type": "code",
   "execution_count": 6,
   "id": "bf9c1e63",
   "metadata": {
    "ExecuteTime": {
     "end_time": "2021-06-13T18:49:12.468777Z",
     "start_time": "2021-06-13T18:49:12.427361Z"
    }
   },
   "outputs": [],
   "source": [
    "data['date'] = pd.to_datetime(data['date']) "
   ]
  },
  {
   "cell_type": "code",
   "execution_count": 7,
   "id": "001c00d5",
   "metadata": {
    "ExecuteTime": {
     "end_time": "2021-06-13T18:49:13.479811Z",
     "start_time": "2021-06-13T18:49:13.359183Z"
    }
   },
   "outputs": [],
   "source": [
    "# descriptive statistics\n",
    "num_attributes = data.select_dtypes(include = ['int64', 'float64'])\n",
    "\n",
    "\n",
    "# central tendency - media, median\n",
    "media = pd.DataFrame(num_attributes.apply(np.mean, axis = 0))\n",
    "mediana = pd.DataFrame(num_attributes.apply(np.median, axis = 0))\n",
    "\n",
    "# dispersion - std, min, max\n",
    "std = pd.DataFrame(num_attributes.apply(np.std, axis = 0))\n",
    "min_ = pd.DataFrame(num_attributes.apply(np.min, axis = 0))\n",
    "max_ = pd.DataFrame(num_attributes.apply(np.max, axis = 0))\n",
    "\n",
    "df1 = pd.concat([max_, min_, media, mediana, std], axis = 1).reset_index()\n",
    "df1.columns = ['attributes', 'maximo', 'minimo', 'media', 'mediana', 'std']"
   ]
  },
  {
   "cell_type": "code",
   "execution_count": 8,
   "id": "7fa296b8",
   "metadata": {
    "ExecuteTime": {
     "end_time": "2021-06-13T18:49:14.501008Z",
     "start_time": "2021-06-13T18:49:14.471150Z"
    }
   },
   "outputs": [
    {
     "name": "stdout",
     "output_type": "stream",
     "text": [
      "Number of rows: 20\n",
      "Number of columns: 6\n"
     ]
    }
   ],
   "source": [
    "show_dimensions(df1)"
   ]
  },
  {
   "cell_type": "code",
   "execution_count": 9,
   "id": "5132df2a",
   "metadata": {
    "ExecuteTime": {
     "end_time": "2021-06-13T18:49:27.039283Z",
     "start_time": "2021-06-13T18:49:15.156510Z"
    }
   },
   "outputs": [],
   "source": [
    "# Calassificando os quartos\n",
    "\n",
    "data['dormitory_type'] = 'NA'\n",
    "\n",
    "for i in range(len(data)):\n",
    "    if data.loc[i, 'bedrooms'] == 1:\n",
    "        data.loc[i,'dormitory_type'] = 'studio'\n",
    "    elif data.loc[i, 'bedrooms'] == 2:\n",
    "        data.loc[i,'dormitory_type'] = 'apartment'\n",
    "    else:\n",
    "        data.loc[i, 'dormitory_type'] = 'house'\n"
   ]
  },
  {
   "cell_type": "code",
   "execution_count": 20,
   "id": "5cd63325",
   "metadata": {
    "ExecuteTime": {
     "end_time": "2021-06-13T18:56:20.248908Z",
     "start_time": "2021-06-13T18:56:20.226960Z"
    }
   },
   "outputs": [
    {
     "name": "stdout",
     "output_type": "stream",
     "text": [
      "Number of rows: 21613\n",
      "\n",
      "Number of columns: 23\n",
      "\n"
     ]
    }
   ],
   "source": [
    "# data dimension\n",
    "show_dimensions(data)"
   ]
  },
  {
   "cell_type": "code",
   "execution_count": 21,
   "id": "038bd162",
   "metadata": {
    "ExecuteTime": {
     "end_time": "2021-06-13T18:56:34.560962Z",
     "start_time": "2021-06-13T18:56:24.064359Z"
    }
   },
   "outputs": [
    {
     "name": "stderr",
     "output_type": "stream",
     "text": [
      "/home/fernandoivanmeyer/.pyenv/versions/3.9.2/envs/ZeroAoDS/lib/python3.9/site-packages/pandas/core/indexing.py:1597: SettingWithCopyWarning:\n",
      "\n",
      "\n",
      "A value is trying to be set on a copy of a slice from a DataFrame.\n",
      "Try using .loc[row_indexer,col_indexer] = value instead\n",
      "\n",
      "See the caveats in the documentation: https://pandas.pydata.org/pandas-docs/stable/user_guide/indexing.html#returning-a-view-versus-a-copy\n",
      "\n",
      "/home/fernandoivanmeyer/.pyenv/versions/3.9.2/envs/ZeroAoDS/lib/python3.9/site-packages/pandas/core/indexing.py:1720: SettingWithCopyWarning:\n",
      "\n",
      "\n",
      "A value is trying to be set on a copy of a slice from a DataFrame.\n",
      "Try using .loc[row_indexer,col_indexer] = value instead\n",
      "\n",
      "See the caveats in the documentation: https://pandas.pydata.org/pandas-docs/stable/user_guide/indexing.html#returning-a-view-versus-a-copy\n",
      "\n"
     ]
    },
    {
     "name": "stdout",
     "output_type": "stream",
     "text": [
      "Loop: 0/20\n",
      "Loop: 1/20\n",
      "Loop: 2/20\n",
      "Loop: 3/20\n",
      "Loop: 4/20\n",
      "Loop: 5/20\n",
      "Loop: 6/20\n",
      "Loop: 7/20\n",
      "Loop: 8/20\n",
      "Loop: 9/20\n",
      "Loop: 10/20\n",
      "Loop: 11/20\n",
      "Loop: 12/20\n",
      "Loop: 13/20\n",
      "Loop: 14/20\n",
      "Loop: 15/20\n",
      "Loop: 16/20\n",
      "Loop: 17/20\n",
      "Loop: 18/20\n",
      "Loop: 19/20\n",
      "Number of rows: 20\n",
      "\n",
      "Number of columns: 25\n",
      "\n"
     ]
    }
   ],
   "source": [
    "cols = ['road', 'house_number']\n",
    "df1 = data.head(20)\n",
    "df1 = collect_geodata(df1, cols)\n",
    "show_dimensions(df1)"
   ]
  },
  {
   "cell_type": "code",
   "execution_count": 11,
   "id": "0df2b9b4",
   "metadata": {
    "ExecuteTime": {
     "end_time": "2021-06-13T18:49:43.920456Z",
     "start_time": "2021-06-13T18:49:31.470545Z"
    }
   },
   "outputs": [],
   "source": [
    "# Classificando os imóveis por valores\n",
    "\n",
    "data['level'] = 'NA'\n",
    "\n",
    "for i in range(len(data)):\n",
    "    if data.loc[i, 'price'] <= 321950:\n",
    "        data.loc[i, 'level'] = 0\n",
    "    \n",
    "    elif (data.loc[i, 'price'] > 321950) & (data.loc[i, 'price'] <= 450000):\n",
    "        data.loc[i, 'level'] = 1\n",
    "        \n",
    "    elif (data.loc[i, 'price'] > 450000) & (data.loc[i, 'price'] <= 645000):\n",
    "        data.loc[i, 'level'] = 2\n",
    "    \n",
    "    else:\n",
    "        data.loc[i, 'level'] = 3"
   ]
  },
  {
   "cell_type": "markdown",
   "id": "d65ab468",
   "metadata": {
    "ExecuteTime": {
     "end_time": "2021-06-13T17:53:10.431624Z",
     "start_time": "2021-06-13T17:51:23.209036Z"
    }
   },
   "source": [
    "# Load"
   ]
  },
  {
   "cell_type": "code",
   "execution_count": 23,
   "id": "3aac3db9",
   "metadata": {
    "ExecuteTime": {
     "end_time": "2021-06-13T18:56:52.418825Z",
     "start_time": "2021-06-13T18:56:52.237523Z"
    }
   },
   "outputs": [
    {
     "data": {
      "application/vnd.plotly.v1+json": {
       "config": {
        "plotlyServerURL": "https://plot.ly"
       },
       "data": [
        {
         "hovertemplate": "level=0<br>price=%{marker.size}<br>lat=%{lat}<br>long=%{lon}<extra></extra>",
         "lat": [
          47.5112,
          47.7379,
          47.3097,
          47.4095,
          47.5123,
          47.7558,
          47.3089,
          47.3343
         ],
         "legendgroup": "0",
         "lon": [
          -122.257,
          -122.233,
          -122.327,
          -122.315,
          -122.337,
          -122.229,
          -122.21,
          -122.306
         ],
         "marker": {
          "color": "#636efa",
          "size": [
           221900,
           180000,
           257500,
           291850,
           229500,
           310000,
           189000,
           230000
          ],
          "sizemode": "area",
          "sizeref": 5444.444444444444
         },
         "mode": "markers",
         "name": "0",
         "showlegend": true,
         "subplot": "mapbox",
         "type": "scattermapbox"
        },
        {
         "hovertemplate": "level=2<br>price=%{marker.size}<br>lat=%{lat}<br>long=%{lon}<extra></extra>",
         "lat": [
          47.721,
          47.5208,
          47.6168,
          47.69,
          47.67,
          47.6648
         ],
         "legendgroup": "2",
         "lon": [
          -122.319,
          -122.393,
          -122.045,
          -122.292,
          -122.394,
          -122.343
         ],
         "marker": {
          "color": "#EF553B",
          "size": [
           538000,
           604000,
           510000,
           468000,
           530000,
           485000
          ],
          "sizemode": "area",
          "sizeref": 5444.444444444444
         },
         "mode": "markers",
         "name": "2",
         "showlegend": true,
         "subplot": "mapbox",
         "type": "scattermapbox"
        },
        {
         "hovertemplate": "level=3<br>price=%{marker.size}<br>lat=%{lat}<br>long=%{lon}<extra></extra>",
         "lat": [
          47.6561,
          47.6007,
          47.5714
         ],
         "legendgroup": "3",
         "lon": [
          -122.005,
          -122.145,
          -122.375
         ],
         "marker": {
          "color": "#00cc96",
          "size": [
           1225000,
           662500,
           650000
          ],
          "sizemode": "area",
          "sizeref": 5444.444444444444
         },
         "mode": "markers",
         "name": "3",
         "showlegend": true,
         "subplot": "mapbox",
         "type": "scattermapbox"
        },
        {
         "hovertemplate": "level=1<br>price=%{marker.size}<br>lat=%{lat}<br>long=%{lon}<extra></extra>",
         "lat": [
          47.3684,
          47.6127,
          47.7277
         ],
         "legendgroup": "1",
         "lon": [
          -122.031,
          -122.045,
          -121.962
         ],
         "marker": {
          "color": "#ab63fa",
          "size": [
           323000,
           400000,
           395000
          ],
          "sizemode": "area",
          "sizeref": 5444.444444444444
         },
         "mode": "markers",
         "name": "1",
         "showlegend": true,
         "subplot": "mapbox",
         "type": "scattermapbox"
        }
       ],
       "layout": {
        "height": 600,
        "legend": {
         "itemsizing": "constant",
         "title": {
          "text": "level"
         },
         "tracegroupgap": 0
        },
        "mapbox": {
         "center": {
          "lat": 47.565000000000005,
          "lon": -122.22815
         },
         "domain": {
          "x": [
           0,
           1
          ],
          "y": [
           0,
           1
          ]
         },
         "style": "open-street-map",
         "zoom": 10
        },
        "margin": {
         "b": 0,
         "l": 0,
         "r": 0,
         "t": 0
        },
        "template": {
         "data": {
          "bar": [
           {
            "error_x": {
             "color": "#2a3f5f"
            },
            "error_y": {
             "color": "#2a3f5f"
            },
            "marker": {
             "line": {
              "color": "#E5ECF6",
              "width": 0.5
             }
            },
            "type": "bar"
           }
          ],
          "barpolar": [
           {
            "marker": {
             "line": {
              "color": "#E5ECF6",
              "width": 0.5
             }
            },
            "type": "barpolar"
           }
          ],
          "carpet": [
           {
            "aaxis": {
             "endlinecolor": "#2a3f5f",
             "gridcolor": "white",
             "linecolor": "white",
             "minorgridcolor": "white",
             "startlinecolor": "#2a3f5f"
            },
            "baxis": {
             "endlinecolor": "#2a3f5f",
             "gridcolor": "white",
             "linecolor": "white",
             "minorgridcolor": "white",
             "startlinecolor": "#2a3f5f"
            },
            "type": "carpet"
           }
          ],
          "choropleth": [
           {
            "colorbar": {
             "outlinewidth": 0,
             "ticks": ""
            },
            "type": "choropleth"
           }
          ],
          "contour": [
           {
            "colorbar": {
             "outlinewidth": 0,
             "ticks": ""
            },
            "colorscale": [
             [
              0,
              "#0d0887"
             ],
             [
              0.1111111111111111,
              "#46039f"
             ],
             [
              0.2222222222222222,
              "#7201a8"
             ],
             [
              0.3333333333333333,
              "#9c179e"
             ],
             [
              0.4444444444444444,
              "#bd3786"
             ],
             [
              0.5555555555555556,
              "#d8576b"
             ],
             [
              0.6666666666666666,
              "#ed7953"
             ],
             [
              0.7777777777777778,
              "#fb9f3a"
             ],
             [
              0.8888888888888888,
              "#fdca26"
             ],
             [
              1,
              "#f0f921"
             ]
            ],
            "type": "contour"
           }
          ],
          "contourcarpet": [
           {
            "colorbar": {
             "outlinewidth": 0,
             "ticks": ""
            },
            "type": "contourcarpet"
           }
          ],
          "heatmap": [
           {
            "colorbar": {
             "outlinewidth": 0,
             "ticks": ""
            },
            "colorscale": [
             [
              0,
              "#0d0887"
             ],
             [
              0.1111111111111111,
              "#46039f"
             ],
             [
              0.2222222222222222,
              "#7201a8"
             ],
             [
              0.3333333333333333,
              "#9c179e"
             ],
             [
              0.4444444444444444,
              "#bd3786"
             ],
             [
              0.5555555555555556,
              "#d8576b"
             ],
             [
              0.6666666666666666,
              "#ed7953"
             ],
             [
              0.7777777777777778,
              "#fb9f3a"
             ],
             [
              0.8888888888888888,
              "#fdca26"
             ],
             [
              1,
              "#f0f921"
             ]
            ],
            "type": "heatmap"
           }
          ],
          "heatmapgl": [
           {
            "colorbar": {
             "outlinewidth": 0,
             "ticks": ""
            },
            "colorscale": [
             [
              0,
              "#0d0887"
             ],
             [
              0.1111111111111111,
              "#46039f"
             ],
             [
              0.2222222222222222,
              "#7201a8"
             ],
             [
              0.3333333333333333,
              "#9c179e"
             ],
             [
              0.4444444444444444,
              "#bd3786"
             ],
             [
              0.5555555555555556,
              "#d8576b"
             ],
             [
              0.6666666666666666,
              "#ed7953"
             ],
             [
              0.7777777777777778,
              "#fb9f3a"
             ],
             [
              0.8888888888888888,
              "#fdca26"
             ],
             [
              1,
              "#f0f921"
             ]
            ],
            "type": "heatmapgl"
           }
          ],
          "histogram": [
           {
            "marker": {
             "colorbar": {
              "outlinewidth": 0,
              "ticks": ""
             }
            },
            "type": "histogram"
           }
          ],
          "histogram2d": [
           {
            "colorbar": {
             "outlinewidth": 0,
             "ticks": ""
            },
            "colorscale": [
             [
              0,
              "#0d0887"
             ],
             [
              0.1111111111111111,
              "#46039f"
             ],
             [
              0.2222222222222222,
              "#7201a8"
             ],
             [
              0.3333333333333333,
              "#9c179e"
             ],
             [
              0.4444444444444444,
              "#bd3786"
             ],
             [
              0.5555555555555556,
              "#d8576b"
             ],
             [
              0.6666666666666666,
              "#ed7953"
             ],
             [
              0.7777777777777778,
              "#fb9f3a"
             ],
             [
              0.8888888888888888,
              "#fdca26"
             ],
             [
              1,
              "#f0f921"
             ]
            ],
            "type": "histogram2d"
           }
          ],
          "histogram2dcontour": [
           {
            "colorbar": {
             "outlinewidth": 0,
             "ticks": ""
            },
            "colorscale": [
             [
              0,
              "#0d0887"
             ],
             [
              0.1111111111111111,
              "#46039f"
             ],
             [
              0.2222222222222222,
              "#7201a8"
             ],
             [
              0.3333333333333333,
              "#9c179e"
             ],
             [
              0.4444444444444444,
              "#bd3786"
             ],
             [
              0.5555555555555556,
              "#d8576b"
             ],
             [
              0.6666666666666666,
              "#ed7953"
             ],
             [
              0.7777777777777778,
              "#fb9f3a"
             ],
             [
              0.8888888888888888,
              "#fdca26"
             ],
             [
              1,
              "#f0f921"
             ]
            ],
            "type": "histogram2dcontour"
           }
          ],
          "mesh3d": [
           {
            "colorbar": {
             "outlinewidth": 0,
             "ticks": ""
            },
            "type": "mesh3d"
           }
          ],
          "parcoords": [
           {
            "line": {
             "colorbar": {
              "outlinewidth": 0,
              "ticks": ""
             }
            },
            "type": "parcoords"
           }
          ],
          "pie": [
           {
            "automargin": true,
            "type": "pie"
           }
          ],
          "scatter": [
           {
            "marker": {
             "colorbar": {
              "outlinewidth": 0,
              "ticks": ""
             }
            },
            "type": "scatter"
           }
          ],
          "scatter3d": [
           {
            "line": {
             "colorbar": {
              "outlinewidth": 0,
              "ticks": ""
             }
            },
            "marker": {
             "colorbar": {
              "outlinewidth": 0,
              "ticks": ""
             }
            },
            "type": "scatter3d"
           }
          ],
          "scattercarpet": [
           {
            "marker": {
             "colorbar": {
              "outlinewidth": 0,
              "ticks": ""
             }
            },
            "type": "scattercarpet"
           }
          ],
          "scattergeo": [
           {
            "marker": {
             "colorbar": {
              "outlinewidth": 0,
              "ticks": ""
             }
            },
            "type": "scattergeo"
           }
          ],
          "scattergl": [
           {
            "marker": {
             "colorbar": {
              "outlinewidth": 0,
              "ticks": ""
             }
            },
            "type": "scattergl"
           }
          ],
          "scattermapbox": [
           {
            "marker": {
             "colorbar": {
              "outlinewidth": 0,
              "ticks": ""
             }
            },
            "type": "scattermapbox"
           }
          ],
          "scatterpolar": [
           {
            "marker": {
             "colorbar": {
              "outlinewidth": 0,
              "ticks": ""
             }
            },
            "type": "scatterpolar"
           }
          ],
          "scatterpolargl": [
           {
            "marker": {
             "colorbar": {
              "outlinewidth": 0,
              "ticks": ""
             }
            },
            "type": "scatterpolargl"
           }
          ],
          "scatterternary": [
           {
            "marker": {
             "colorbar": {
              "outlinewidth": 0,
              "ticks": ""
             }
            },
            "type": "scatterternary"
           }
          ],
          "surface": [
           {
            "colorbar": {
             "outlinewidth": 0,
             "ticks": ""
            },
            "colorscale": [
             [
              0,
              "#0d0887"
             ],
             [
              0.1111111111111111,
              "#46039f"
             ],
             [
              0.2222222222222222,
              "#7201a8"
             ],
             [
              0.3333333333333333,
              "#9c179e"
             ],
             [
              0.4444444444444444,
              "#bd3786"
             ],
             [
              0.5555555555555556,
              "#d8576b"
             ],
             [
              0.6666666666666666,
              "#ed7953"
             ],
             [
              0.7777777777777778,
              "#fb9f3a"
             ],
             [
              0.8888888888888888,
              "#fdca26"
             ],
             [
              1,
              "#f0f921"
             ]
            ],
            "type": "surface"
           }
          ],
          "table": [
           {
            "cells": {
             "fill": {
              "color": "#EBF0F8"
             },
             "line": {
              "color": "white"
             }
            },
            "header": {
             "fill": {
              "color": "#C8D4E3"
             },
             "line": {
              "color": "white"
             }
            },
            "type": "table"
           }
          ]
         },
         "layout": {
          "annotationdefaults": {
           "arrowcolor": "#2a3f5f",
           "arrowhead": 0,
           "arrowwidth": 1
          },
          "autotypenumbers": "strict",
          "coloraxis": {
           "colorbar": {
            "outlinewidth": 0,
            "ticks": ""
           }
          },
          "colorscale": {
           "diverging": [
            [
             0,
             "#8e0152"
            ],
            [
             0.1,
             "#c51b7d"
            ],
            [
             0.2,
             "#de77ae"
            ],
            [
             0.3,
             "#f1b6da"
            ],
            [
             0.4,
             "#fde0ef"
            ],
            [
             0.5,
             "#f7f7f7"
            ],
            [
             0.6,
             "#e6f5d0"
            ],
            [
             0.7,
             "#b8e186"
            ],
            [
             0.8,
             "#7fbc41"
            ],
            [
             0.9,
             "#4d9221"
            ],
            [
             1,
             "#276419"
            ]
           ],
           "sequential": [
            [
             0,
             "#0d0887"
            ],
            [
             0.1111111111111111,
             "#46039f"
            ],
            [
             0.2222222222222222,
             "#7201a8"
            ],
            [
             0.3333333333333333,
             "#9c179e"
            ],
            [
             0.4444444444444444,
             "#bd3786"
            ],
            [
             0.5555555555555556,
             "#d8576b"
            ],
            [
             0.6666666666666666,
             "#ed7953"
            ],
            [
             0.7777777777777778,
             "#fb9f3a"
            ],
            [
             0.8888888888888888,
             "#fdca26"
            ],
            [
             1,
             "#f0f921"
            ]
           ],
           "sequentialminus": [
            [
             0,
             "#0d0887"
            ],
            [
             0.1111111111111111,
             "#46039f"
            ],
            [
             0.2222222222222222,
             "#7201a8"
            ],
            [
             0.3333333333333333,
             "#9c179e"
            ],
            [
             0.4444444444444444,
             "#bd3786"
            ],
            [
             0.5555555555555556,
             "#d8576b"
            ],
            [
             0.6666666666666666,
             "#ed7953"
            ],
            [
             0.7777777777777778,
             "#fb9f3a"
            ],
            [
             0.8888888888888888,
             "#fdca26"
            ],
            [
             1,
             "#f0f921"
            ]
           ]
          },
          "colorway": [
           "#636efa",
           "#EF553B",
           "#00cc96",
           "#ab63fa",
           "#FFA15A",
           "#19d3f3",
           "#FF6692",
           "#B6E880",
           "#FF97FF",
           "#FECB52"
          ],
          "font": {
           "color": "#2a3f5f"
          },
          "geo": {
           "bgcolor": "white",
           "lakecolor": "white",
           "landcolor": "#E5ECF6",
           "showlakes": true,
           "showland": true,
           "subunitcolor": "white"
          },
          "hoverlabel": {
           "align": "left"
          },
          "hovermode": "closest",
          "mapbox": {
           "style": "light"
          },
          "paper_bgcolor": "white",
          "plot_bgcolor": "#E5ECF6",
          "polar": {
           "angularaxis": {
            "gridcolor": "white",
            "linecolor": "white",
            "ticks": ""
           },
           "bgcolor": "#E5ECF6",
           "radialaxis": {
            "gridcolor": "white",
            "linecolor": "white",
            "ticks": ""
           }
          },
          "scene": {
           "xaxis": {
            "backgroundcolor": "#E5ECF6",
            "gridcolor": "white",
            "gridwidth": 2,
            "linecolor": "white",
            "showbackground": true,
            "ticks": "",
            "zerolinecolor": "white"
           },
           "yaxis": {
            "backgroundcolor": "#E5ECF6",
            "gridcolor": "white",
            "gridwidth": 2,
            "linecolor": "white",
            "showbackground": true,
            "ticks": "",
            "zerolinecolor": "white"
           },
           "zaxis": {
            "backgroundcolor": "#E5ECF6",
            "gridcolor": "white",
            "gridwidth": 2,
            "linecolor": "white",
            "showbackground": true,
            "ticks": "",
            "zerolinecolor": "white"
           }
          },
          "shapedefaults": {
           "line": {
            "color": "#2a3f5f"
           }
          },
          "ternary": {
           "aaxis": {
            "gridcolor": "white",
            "linecolor": "white",
            "ticks": ""
           },
           "baxis": {
            "gridcolor": "white",
            "linecolor": "white",
            "ticks": ""
           },
           "bgcolor": "#E5ECF6",
           "caxis": {
            "gridcolor": "white",
            "linecolor": "white",
            "ticks": ""
           }
          },
          "title": {
           "x": 0.05
          },
          "xaxis": {
           "automargin": true,
           "gridcolor": "white",
           "linecolor": "white",
           "ticks": "",
           "title": {
            "standoff": 15
           },
           "zerolinecolor": "white",
           "zerolinewidth": 2
          },
          "yaxis": {
           "automargin": true,
           "gridcolor": "white",
           "linecolor": "white",
           "ticks": "",
           "title": {
            "standoff": 15
           },
           "zerolinecolor": "white",
           "zerolinewidth": 2
          }
         }
        }
       }
      },
      "text/html": [
       "<div>                            <div id=\"ccdd22aa-be71-4799-8f01-4279296dd133\" class=\"plotly-graph-div\" style=\"height:600px; width:100%;\"></div>            <script type=\"text/javascript\">                require([\"plotly\"], function(Plotly) {                    window.PLOTLYENV=window.PLOTLYENV || {};                                    if (document.getElementById(\"ccdd22aa-be71-4799-8f01-4279296dd133\")) {                    Plotly.newPlot(                        \"ccdd22aa-be71-4799-8f01-4279296dd133\",                        [{\"hovertemplate\": \"level=0<br>price=%{marker.size}<br>lat=%{lat}<br>long=%{lon}<extra></extra>\", \"lat\": [47.5112, 47.7379, 47.3097, 47.4095, 47.5123, 47.7558, 47.3089, 47.3343], \"legendgroup\": \"0\", \"lon\": [-122.257, -122.233, -122.327, -122.315, -122.337, -122.229, -122.21, -122.306], \"marker\": {\"color\": \"#636efa\", \"size\": [221900.0, 180000.0, 257500.0, 291850.0, 229500.0, 310000.0, 189000.0, 230000.0], \"sizemode\": \"area\", \"sizeref\": 5444.444444444444}, \"mode\": \"markers\", \"name\": \"0\", \"showlegend\": true, \"subplot\": \"mapbox\", \"type\": \"scattermapbox\"}, {\"hovertemplate\": \"level=2<br>price=%{marker.size}<br>lat=%{lat}<br>long=%{lon}<extra></extra>\", \"lat\": [47.721, 47.5208, 47.6168, 47.69, 47.67, 47.6648], \"legendgroup\": \"2\", \"lon\": [-122.319, -122.393, -122.045, -122.292, -122.394, -122.343], \"marker\": {\"color\": \"#EF553B\", \"size\": [538000.0, 604000.0, 510000.0, 468000.0, 530000.0, 485000.0], \"sizemode\": \"area\", \"sizeref\": 5444.444444444444}, \"mode\": \"markers\", \"name\": \"2\", \"showlegend\": true, \"subplot\": \"mapbox\", \"type\": \"scattermapbox\"}, {\"hovertemplate\": \"level=3<br>price=%{marker.size}<br>lat=%{lat}<br>long=%{lon}<extra></extra>\", \"lat\": [47.6561, 47.6007, 47.5714], \"legendgroup\": \"3\", \"lon\": [-122.005, -122.145, -122.375], \"marker\": {\"color\": \"#00cc96\", \"size\": [1225000.0, 662500.0, 650000.0], \"sizemode\": \"area\", \"sizeref\": 5444.444444444444}, \"mode\": \"markers\", \"name\": \"3\", \"showlegend\": true, \"subplot\": \"mapbox\", \"type\": \"scattermapbox\"}, {\"hovertemplate\": \"level=1<br>price=%{marker.size}<br>lat=%{lat}<br>long=%{lon}<extra></extra>\", \"lat\": [47.3684, 47.6127, 47.7277], \"legendgroup\": \"1\", \"lon\": [-122.031, -122.045, -121.962], \"marker\": {\"color\": \"#ab63fa\", \"size\": [323000.0, 400000.0, 395000.0], \"sizemode\": \"area\", \"sizeref\": 5444.444444444444}, \"mode\": \"markers\", \"name\": \"1\", \"showlegend\": true, \"subplot\": \"mapbox\", \"type\": \"scattermapbox\"}],                        {\"height\": 600, \"legend\": {\"itemsizing\": \"constant\", \"title\": {\"text\": \"level\"}, \"tracegroupgap\": 0}, \"mapbox\": {\"center\": {\"lat\": 47.565000000000005, \"lon\": -122.22815}, \"domain\": {\"x\": [0.0, 1.0], \"y\": [0.0, 1.0]}, \"style\": \"open-street-map\", \"zoom\": 10}, \"margin\": {\"b\": 0, \"l\": 0, \"r\": 0, \"t\": 0}, \"template\": {\"data\": {\"bar\": [{\"error_x\": {\"color\": \"#2a3f5f\"}, \"error_y\": {\"color\": \"#2a3f5f\"}, \"marker\": {\"line\": {\"color\": \"#E5ECF6\", \"width\": 0.5}}, \"type\": \"bar\"}], \"barpolar\": [{\"marker\": {\"line\": {\"color\": \"#E5ECF6\", \"width\": 0.5}}, \"type\": \"barpolar\"}], \"carpet\": [{\"aaxis\": {\"endlinecolor\": \"#2a3f5f\", \"gridcolor\": \"white\", \"linecolor\": \"white\", \"minorgridcolor\": \"white\", \"startlinecolor\": \"#2a3f5f\"}, \"baxis\": {\"endlinecolor\": \"#2a3f5f\", \"gridcolor\": \"white\", \"linecolor\": \"white\", \"minorgridcolor\": \"white\", \"startlinecolor\": \"#2a3f5f\"}, \"type\": \"carpet\"}], \"choropleth\": [{\"colorbar\": {\"outlinewidth\": 0, \"ticks\": \"\"}, \"type\": \"choropleth\"}], \"contour\": [{\"colorbar\": {\"outlinewidth\": 0, \"ticks\": \"\"}, \"colorscale\": [[0.0, \"#0d0887\"], [0.1111111111111111, \"#46039f\"], [0.2222222222222222, \"#7201a8\"], [0.3333333333333333, \"#9c179e\"], [0.4444444444444444, \"#bd3786\"], [0.5555555555555556, \"#d8576b\"], [0.6666666666666666, \"#ed7953\"], [0.7777777777777778, \"#fb9f3a\"], [0.8888888888888888, \"#fdca26\"], [1.0, \"#f0f921\"]], \"type\": \"contour\"}], \"contourcarpet\": [{\"colorbar\": {\"outlinewidth\": 0, \"ticks\": \"\"}, \"type\": \"contourcarpet\"}], \"heatmap\": [{\"colorbar\": {\"outlinewidth\": 0, \"ticks\": \"\"}, \"colorscale\": [[0.0, \"#0d0887\"], [0.1111111111111111, \"#46039f\"], [0.2222222222222222, \"#7201a8\"], [0.3333333333333333, \"#9c179e\"], [0.4444444444444444, \"#bd3786\"], [0.5555555555555556, \"#d8576b\"], [0.6666666666666666, \"#ed7953\"], [0.7777777777777778, \"#fb9f3a\"], [0.8888888888888888, \"#fdca26\"], [1.0, \"#f0f921\"]], \"type\": \"heatmap\"}], \"heatmapgl\": [{\"colorbar\": {\"outlinewidth\": 0, \"ticks\": \"\"}, \"colorscale\": [[0.0, \"#0d0887\"], [0.1111111111111111, \"#46039f\"], [0.2222222222222222, \"#7201a8\"], [0.3333333333333333, \"#9c179e\"], [0.4444444444444444, \"#bd3786\"], [0.5555555555555556, \"#d8576b\"], [0.6666666666666666, \"#ed7953\"], [0.7777777777777778, \"#fb9f3a\"], [0.8888888888888888, \"#fdca26\"], [1.0, \"#f0f921\"]], \"type\": \"heatmapgl\"}], \"histogram\": [{\"marker\": {\"colorbar\": {\"outlinewidth\": 0, \"ticks\": \"\"}}, \"type\": \"histogram\"}], \"histogram2d\": [{\"colorbar\": {\"outlinewidth\": 0, \"ticks\": \"\"}, \"colorscale\": [[0.0, \"#0d0887\"], [0.1111111111111111, \"#46039f\"], [0.2222222222222222, \"#7201a8\"], [0.3333333333333333, \"#9c179e\"], [0.4444444444444444, \"#bd3786\"], [0.5555555555555556, \"#d8576b\"], [0.6666666666666666, \"#ed7953\"], [0.7777777777777778, \"#fb9f3a\"], [0.8888888888888888, \"#fdca26\"], [1.0, \"#f0f921\"]], \"type\": \"histogram2d\"}], \"histogram2dcontour\": [{\"colorbar\": {\"outlinewidth\": 0, \"ticks\": \"\"}, \"colorscale\": [[0.0, \"#0d0887\"], [0.1111111111111111, \"#46039f\"], [0.2222222222222222, \"#7201a8\"], [0.3333333333333333, \"#9c179e\"], [0.4444444444444444, \"#bd3786\"], [0.5555555555555556, \"#d8576b\"], [0.6666666666666666, \"#ed7953\"], [0.7777777777777778, \"#fb9f3a\"], [0.8888888888888888, \"#fdca26\"], [1.0, \"#f0f921\"]], \"type\": \"histogram2dcontour\"}], \"mesh3d\": [{\"colorbar\": {\"outlinewidth\": 0, \"ticks\": \"\"}, \"type\": \"mesh3d\"}], \"parcoords\": [{\"line\": {\"colorbar\": {\"outlinewidth\": 0, \"ticks\": \"\"}}, \"type\": \"parcoords\"}], \"pie\": [{\"automargin\": true, \"type\": \"pie\"}], \"scatter\": [{\"marker\": {\"colorbar\": {\"outlinewidth\": 0, \"ticks\": \"\"}}, \"type\": \"scatter\"}], \"scatter3d\": [{\"line\": {\"colorbar\": {\"outlinewidth\": 0, \"ticks\": \"\"}}, \"marker\": {\"colorbar\": {\"outlinewidth\": 0, \"ticks\": \"\"}}, \"type\": \"scatter3d\"}], \"scattercarpet\": [{\"marker\": {\"colorbar\": {\"outlinewidth\": 0, \"ticks\": \"\"}}, \"type\": \"scattercarpet\"}], \"scattergeo\": [{\"marker\": {\"colorbar\": {\"outlinewidth\": 0, \"ticks\": \"\"}}, \"type\": \"scattergeo\"}], \"scattergl\": [{\"marker\": {\"colorbar\": {\"outlinewidth\": 0, \"ticks\": \"\"}}, \"type\": \"scattergl\"}], \"scattermapbox\": [{\"marker\": {\"colorbar\": {\"outlinewidth\": 0, \"ticks\": \"\"}}, \"type\": \"scattermapbox\"}], \"scatterpolar\": [{\"marker\": {\"colorbar\": {\"outlinewidth\": 0, \"ticks\": \"\"}}, \"type\": \"scatterpolar\"}], \"scatterpolargl\": [{\"marker\": {\"colorbar\": {\"outlinewidth\": 0, \"ticks\": \"\"}}, \"type\": \"scatterpolargl\"}], \"scatterternary\": [{\"marker\": {\"colorbar\": {\"outlinewidth\": 0, \"ticks\": \"\"}}, \"type\": \"scatterternary\"}], \"surface\": [{\"colorbar\": {\"outlinewidth\": 0, \"ticks\": \"\"}, \"colorscale\": [[0.0, \"#0d0887\"], [0.1111111111111111, \"#46039f\"], [0.2222222222222222, \"#7201a8\"], [0.3333333333333333, \"#9c179e\"], [0.4444444444444444, \"#bd3786\"], [0.5555555555555556, \"#d8576b\"], [0.6666666666666666, \"#ed7953\"], [0.7777777777777778, \"#fb9f3a\"], [0.8888888888888888, \"#fdca26\"], [1.0, \"#f0f921\"]], \"type\": \"surface\"}], \"table\": [{\"cells\": {\"fill\": {\"color\": \"#EBF0F8\"}, \"line\": {\"color\": \"white\"}}, \"header\": {\"fill\": {\"color\": \"#C8D4E3\"}, \"line\": {\"color\": \"white\"}}, \"type\": \"table\"}]}, \"layout\": {\"annotationdefaults\": {\"arrowcolor\": \"#2a3f5f\", \"arrowhead\": 0, \"arrowwidth\": 1}, \"autotypenumbers\": \"strict\", \"coloraxis\": {\"colorbar\": {\"outlinewidth\": 0, \"ticks\": \"\"}}, \"colorscale\": {\"diverging\": [[0, \"#8e0152\"], [0.1, \"#c51b7d\"], [0.2, \"#de77ae\"], [0.3, \"#f1b6da\"], [0.4, \"#fde0ef\"], [0.5, \"#f7f7f7\"], [0.6, \"#e6f5d0\"], [0.7, \"#b8e186\"], [0.8, \"#7fbc41\"], [0.9, \"#4d9221\"], [1, \"#276419\"]], \"sequential\": [[0.0, \"#0d0887\"], [0.1111111111111111, \"#46039f\"], [0.2222222222222222, \"#7201a8\"], [0.3333333333333333, \"#9c179e\"], [0.4444444444444444, \"#bd3786\"], [0.5555555555555556, \"#d8576b\"], [0.6666666666666666, \"#ed7953\"], [0.7777777777777778, \"#fb9f3a\"], [0.8888888888888888, \"#fdca26\"], [1.0, \"#f0f921\"]], \"sequentialminus\": [[0.0, \"#0d0887\"], [0.1111111111111111, \"#46039f\"], [0.2222222222222222, \"#7201a8\"], [0.3333333333333333, \"#9c179e\"], [0.4444444444444444, \"#bd3786\"], [0.5555555555555556, \"#d8576b\"], [0.6666666666666666, \"#ed7953\"], [0.7777777777777778, \"#fb9f3a\"], [0.8888888888888888, \"#fdca26\"], [1.0, \"#f0f921\"]]}, \"colorway\": [\"#636efa\", \"#EF553B\", \"#00cc96\", \"#ab63fa\", \"#FFA15A\", \"#19d3f3\", \"#FF6692\", \"#B6E880\", \"#FF97FF\", \"#FECB52\"], \"font\": {\"color\": \"#2a3f5f\"}, \"geo\": {\"bgcolor\": \"white\", \"lakecolor\": \"white\", \"landcolor\": \"#E5ECF6\", \"showlakes\": true, \"showland\": true, \"subunitcolor\": \"white\"}, \"hoverlabel\": {\"align\": \"left\"}, \"hovermode\": \"closest\", \"mapbox\": {\"style\": \"light\"}, \"paper_bgcolor\": \"white\", \"plot_bgcolor\": \"#E5ECF6\", \"polar\": {\"angularaxis\": {\"gridcolor\": \"white\", \"linecolor\": \"white\", \"ticks\": \"\"}, \"bgcolor\": \"#E5ECF6\", \"radialaxis\": {\"gridcolor\": \"white\", \"linecolor\": \"white\", \"ticks\": \"\"}}, \"scene\": {\"xaxis\": {\"backgroundcolor\": \"#E5ECF6\", \"gridcolor\": \"white\", \"gridwidth\": 2, \"linecolor\": \"white\", \"showbackground\": true, \"ticks\": \"\", \"zerolinecolor\": \"white\"}, \"yaxis\": {\"backgroundcolor\": \"#E5ECF6\", \"gridcolor\": \"white\", \"gridwidth\": 2, \"linecolor\": \"white\", \"showbackground\": true, \"ticks\": \"\", \"zerolinecolor\": \"white\"}, \"zaxis\": {\"backgroundcolor\": \"#E5ECF6\", \"gridcolor\": \"white\", \"gridwidth\": 2, \"linecolor\": \"white\", \"showbackground\": true, \"ticks\": \"\", \"zerolinecolor\": \"white\"}}, \"shapedefaults\": {\"line\": {\"color\": \"#2a3f5f\"}}, \"ternary\": {\"aaxis\": {\"gridcolor\": \"white\", \"linecolor\": \"white\", \"ticks\": \"\"}, \"baxis\": {\"gridcolor\": \"white\", \"linecolor\": \"white\", \"ticks\": \"\"}, \"bgcolor\": \"#E5ECF6\", \"caxis\": {\"gridcolor\": \"white\", \"linecolor\": \"white\", \"ticks\": \"\"}}, \"title\": {\"x\": 0.05}, \"xaxis\": {\"automargin\": true, \"gridcolor\": \"white\", \"linecolor\": \"white\", \"ticks\": \"\", \"title\": {\"standoff\": 15}, \"zerolinecolor\": \"white\", \"zerolinewidth\": 2}, \"yaxis\": {\"automargin\": true, \"gridcolor\": \"white\", \"linecolor\": \"white\", \"ticks\": \"\", \"title\": {\"standoff\": 15}, \"zerolinecolor\": \"white\", \"zerolinewidth\": 2}}}},                        {\"responsive\": true}                    ).then(function(){\n",
       "                            \n",
       "var gd = document.getElementById('ccdd22aa-be71-4799-8f01-4279296dd133');\n",
       "var x = new MutationObserver(function (mutations, observer) {{\n",
       "        var display = window.getComputedStyle(gd).display;\n",
       "        if (!display || display === 'none') {{\n",
       "            console.log([gd, 'removed!']);\n",
       "            Plotly.purge(gd);\n",
       "            observer.disconnect();\n",
       "        }}\n",
       "}});\n",
       "\n",
       "// Listen for the removal of the full notebook cells\n",
       "var notebookContainer = gd.closest('#notebook-container');\n",
       "if (notebookContainer) {{\n",
       "    x.observe(notebookContainer, {childList: true});\n",
       "}}\n",
       "\n",
       "// Listen for the clearing of the current output cell\n",
       "var outputEl = gd.closest('.output');\n",
       "if (outputEl) {{\n",
       "    x.observe(outputEl, {childList: true});\n",
       "}}\n",
       "\n",
       "                        })                };                });            </script>        </div>"
      ]
     },
     "metadata": {},
     "output_type": "display_data"
    }
   ],
   "source": [
    "# mapa \n",
    "houses = df1[['id', 'lat', 'long', 'price', 'level']].copy()\n",
    "\n",
    "fig = px.scatter_mapbox(houses,\n",
    "                 lat = 'lat',\n",
    "                 lon = 'long',\n",
    "                 color = 'level',\n",
    "                 size = 'price',\n",
    "                 color_continuous_scale = px.colors.cyclical.IceFire,\n",
    "                 size_max = 15,\n",
    "                 zoom = 10)\n",
    "\n",
    "fig.update_layout(mapbox_style = 'open-street-map')\n",
    "fig.update_layout(height = 600, margin = {'r': 0, 'l': 0, 'b': 0, 't': 0} )"
   ]
  },
  {
   "cell_type": "code",
   "execution_count": null,
   "id": "9b6569ea",
   "metadata": {},
   "outputs": [],
   "source": []
  },
  {
   "cell_type": "code",
   "execution_count": null,
   "id": "125b18c1",
   "metadata": {},
   "outputs": [],
   "source": []
  }
 ],
 "metadata": {
  "kernelspec": {
   "display_name": "Python 3",
   "language": "python",
   "name": "python3"
  },
  "language_info": {
   "codemirror_mode": {
    "name": "ipython",
    "version": 3
   },
   "file_extension": ".py",
   "mimetype": "text/x-python",
   "name": "python",
   "nbconvert_exporter": "python",
   "pygments_lexer": "ipython3",
   "version": "3.9.2"
  },
  "toc": {
   "base_numbering": 1,
   "nav_menu": {},
   "number_sections": true,
   "sideBar": true,
   "skip_h1_title": false,
   "title_cell": "Table of Contents",
   "title_sidebar": "Contents",
   "toc_cell": false,
   "toc_position": {
    "height": "calc(100% - 180px)",
    "left": "10px",
    "top": "150px",
    "width": "273.188px"
   },
   "toc_section_display": true,
   "toc_window_display": true
  }
 },
 "nbformat": 4,
 "nbformat_minor": 5
}
